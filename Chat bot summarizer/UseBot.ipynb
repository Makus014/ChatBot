{
 "cells": [
  {
   "cell_type": "markdown",
   "metadata": {},
   "source": []
  },
  {
   "cell_type": "code",
   "execution_count": 14,
   "metadata": {},
   "outputs": [],
   "source": [
    "#import necessary libraries\n",
    "import json\n",
    "import pickle\n",
    "import nltk\n",
    "import random\n",
    "import numpy as np\n",
    "from transformers import pipeline, PegasusForConditionalGeneration, PegasusTokenizer\n",
    "from transformers import AutoTokenizer"
   ]
  },
  {
   "cell_type": "code",
   "execution_count": 15,
   "metadata": {},
   "outputs": [],
   "source": [
    "import speech_recognition as sr\n",
    "import pyautogui\n",
    "import time\n",
    "import threading\n",
    "import datetime\n",
    "from nltk.stem import WordNetLemmatizer\n",
    "from keras.models import load_model\n",
    "lemmatizer = WordNetLemmatizer()"
   ]
  },
  {
   "cell_type": "code",
   "execution_count": 16,
   "metadata": {},
   "outputs": [],
   "source": [
    "intents = json.loads(open(\"intents.json\").read())\n",
    "words = pickle.load(open('LemmatizedWords.pkl', 'rb'))\n",
    "classes = pickle.load(open('categories.pkl', 'rb'))\n",
    "model = load_model('myBot.h5')"
   ]
  },
  {
   "cell_type": "code",
   "execution_count": 17,
   "metadata": {},
   "outputs": [],
   "source": [
    "def Sentence_cleaner(stnc):\n",
    "    w_sentence = nltk.word_tokenize(stnc)\n",
    "    result= []\n",
    "    for word in w_sentence:\n",
    "        result.append(lemmatizer.lemmatize(word))\n",
    "    return result"
   ]
  },
  {
   "cell_type": "code",
   "execution_count": 18,
   "metadata": {},
   "outputs": [],
   "source": [
    "def bag_words(stnc):\n",
    "    w_sentence = Sentence_cleaner(stnc)\n",
    "    bag = [0] * len(words)\n",
    "    for w in w_sentence:\n",
    "        for i, Words in enumerate(words):\n",
    "            if Words == w:\n",
    "                bag[i] = 1\n",
    "    res = np.array(bag)\n",
    "    return res"
   ]
  },
  {
   "cell_type": "code",
   "execution_count": 19,
   "metadata": {},
   "outputs": [],
   "source": [
    "def class_predictor(stnc):\n",
    "    ERROR_THRESHOLD = 0.25\n",
    "    res_list = []\n",
    "    bag = bag_words(stnc)\n",
    "    res = model.predict(np.array([bag]))[0]\n",
    "    res = [[i, r] for i, r in enumerate(res) if r > ERROR_THRESHOLD]\n",
    "    res.sort(key=lambda x: x[1], reverse=True)\n",
    "    for r in res:\n",
    "        res_list.append({'intent': classes [r[0]],'probability': str(r[1])})\n",
    "    return res_list"
   ]
  },
  {
   "cell_type": "code",
   "execution_count": 20,
   "metadata": {},
   "outputs": [],
   "source": [
    "hover_stop_flag = False"
   ]
  },
  {
   "cell_type": "code",
   "execution_count": 21,
   "metadata": {},
   "outputs": [],
   "source": [
    "def hover(direction):\n",
    "    while not hover_stop_flag:\n",
    "        if direction == \"up\":\n",
    "            pyautogui.move(0, -10)\n",
    "        elif direction == \"down\":\n",
    "            pyautogui.move(0, 10)\n",
    "        elif direction == \"left\":\n",
    "            pyautogui.move(-10, 0)\n",
    "        elif direction == \"right\":\n",
    "            pyautogui.move(10, 0)\n",
    "        time.sleep(0.1)"
   ]
  },
  {
   "cell_type": "code",
   "execution_count": 22,
   "metadata": {},
   "outputs": [],
   "source": [
    "\n",
    "def stop_hover():\n",
    "    global hover_stop_flag\n",
    "    hover_stop_flag = True"
   ]
  },
  {
   "cell_type": "code",
   "execution_count": 23,
   "metadata": {},
   "outputs": [],
   "source": [
    "def respond(intents_list, intents_json):\n",
    "    global hover_stop_flag\n",
    "    if not intents_list:\n",
    "        print(\"No intent Found!\")\n",
    "        return\n",
    "    tag = intents_list[0]['intent']\n",
    "    list_json_intent = intents_json['intents']\n",
    "    for i in list_json_intent:\n",
    "        if i['tag'] == tag:\n",
    "            if tag == \"current_time\":\n",
    "                exactTime = datetime.datetime.now().strftime(\"%d/%m/%Y %H:%M:%S\")\n",
    "                randRespond = random.choice(i['responses'])\n",
    "                result = randRespond.format(time_variable =exactTime)   \n",
    "            elif tag == \"Summarization\":\n",
    "                result = random.choice(i['responses'])\n",
    "                print(result)\n",
    "                summarizer = input(\">  \")\n",
    "                #Using pegasus-xsum model to generate new model\n",
    "                tokenizer = PegasusTokenizer.from_pretrained(\"google/pegasus-xsum\")\n",
    "                #Model\n",
    "                model = PegasusForConditionalGeneration.from_pretrained(\"google/pegasus-xsum\")\n",
    "                tokens = tokenizer(summarizer, truncation=True, padding=\"longest\", return_tensors=\"pt\")\n",
    "                summarizeText = model.generate(**tokens)\n",
    "                res = tokenizer.decode(summarizeText[0], skip_special_tokens=True)\n",
    "                return res\n",
    "            elif tag == \"mouseclick\":\n",
    "                pyautogui.click()\n",
    "                result = random.choice(i['responses'])\n",
    "            elif tag in {\"hoverUP\", \"hoverDown\", \"hoverLeft\", \"hoverRight\"}:\n",
    "                hover_stop_flag = False\n",
    "                direction = tag.replace(\"hover\", \"\").lower()\n",
    "                hover_thread = threading.Thread(target=lambda: hover(direction))\n",
    "                result = random.choice(i['responses'])\n",
    "                hover_thread.start()\n",
    "            elif tag == \"stop\":\n",
    "                result = random.choice(i['responses'])\n",
    "                stop_hover()\n",
    "            elif tag == \"goodbye\":           \n",
    "                result = random.choice(i['responses'])  \n",
    "            else:\n",
    "                result = random.choice(i['responses'])\n",
    "            break\n",
    "    return result"
   ]
  },
  {
   "cell_type": "code",
   "execution_count": 24,
   "metadata": {},
   "outputs": [
    {
     "name": "stdout",
     "output_type": "stream",
     "text": [
      "1/1 [==============================] - 0s 151ms/step\n",
      "Intents: [{'intent': 'greeting', 'probability': '0.7764788'}]\n",
      "greetings\n",
      "1/1 [==============================] - 0s 31ms/step\n",
      "Intents: [{'intent': 'greeting', 'probability': '0.7764788'}]\n",
      "Need something?\n",
      "1/1 [==============================] - 0s 24ms/step\n",
      "Intents: [{'intent': 'greeting', 'probability': '0.7764788'}]\n",
      "Hello!\n",
      "1/1 [==============================] - 0s 38ms/step\n",
      "Intents: [{'intent': 'current_time', 'probability': '0.9999654'}]\n",
      "16/01/2024 05:03:47\n",
      "1/1 [==============================] - 0s 24ms/step\n",
      "Intents: [{'intent': 'Summarization', 'probability': '0.9999367'}]\n",
      "Sure! what do you wanna summarize?\n"
     ]
    },
    {
     "name": "stderr",
     "output_type": "stream",
     "text": [
      "Some weights of PegasusForConditionalGeneration were not initialized from the model checkpoint at google/pegasus-xsum and are newly initialized: ['model.encoder.embed_positions.weight', 'model.decoder.embed_positions.weight']\n",
      "You should probably TRAIN this model on a down-stream task to be able to use it for predictions and inference.\n"
     ]
    },
    {
     "name": "stdout",
     "output_type": "stream",
     "text": [
      "A chatbot is a computer program that simulates and processes human conversation (either written or spoken), allowing humans to interact with digital devices as if they were communicating with a real person.\n"
     ]
    }
   ],
   "source": [
    "while True:\n",
    "    textInput = input(\"\")\n",
    "    if textInput == \"==\":\n",
    "        break\n",
    "    ints = class_predictor(textInput)\n",
    "    print(\"Intents:\", ints)\n",
    "    res = respond(ints, intents)\n",
    "    print(res)"
   ]
  },
  {
   "cell_type": "code",
   "execution_count": null,
   "metadata": {},
   "outputs": [],
   "source": [
    "\"\"\"\n",
    "At the most basic level, a chatbot is a computer program that simulates and processes human conversation (either written or spoken), allowing humans to interact with digital devices as if they were communicating with a real person. Chatbots can be as simple as rudimentary programs that answer a simple query with a single-line response, or as sophisticated as digital assistants that learn and evolve to deliver increasing levels of personalization as they gather and process information.\n",
    "\n",
    "\n",
    "You’ve probably interacted with a chatbot whether you know it or not. For example, you’re at your computer researching a product, and a window pops up on your screen asking if you need help. Or perhaps you’re on your way to a concert and you use your smartphone to request a ride via chat. Or you might have used voice commands to order a coffee from your neighborhood café and received a response telling you when your order will be ready and what it will cost. These are all examples of scenarios in which you could be encountering a chatbot.\n",
    "\n",
    "\"\"\"\n",
    "#https://www.oracle.com/chatbots/what-is-a-chatbot/#:~:text=Chatbots%20are%20conversational%20tools%20that,cannot%20be%20replicated%20by%20machines.\n"
   ]
  },
  {
   "cell_type": "code",
   "execution_count": null,
   "metadata": {},
   "outputs": [],
   "source": [
    "recognizer = sr.Recognizer()\n",
    "# for mic \n",
    "while True:\n",
    "    \n",
    "    with sr.Microphone() as source:\n",
    "        print(\"Listening\")\n",
    "        recognizer.adjust_for_ambient_noise(source)\n",
    "        audio_data = recognizer.listen(source)\n",
    "\n",
    "    try:\n",
    "        text_audio = recognizer.recognize_google(audio_data, language=\"en-US\")\n",
    "        print(\"Recognized Text:\", text_audio)\n",
    "\n",
    "        ints = class_predictor(text_audio)\n",
    "        print(\"Intents:\", ints)\n",
    "\n",
    "        res = respond(ints, intents)\n",
    "        print(res)\n",
    "\n",
    "    except sr.UnknownValueError:\n",
    "        print(\"Speech Recognition could not understand audio\")\n",
    "    except sr.RequestError as e:\n",
    "        print(f\"Could not request results from Google Speech Recognition service; {e}\")\n",
    "    except Exception as e:\n",
    "        print(f\"An error occurred: {e}\")\n"
   ]
  },
  {
   "cell_type": "code",
   "execution_count": null,
   "metadata": {},
   "outputs": [],
   "source": []
  }
 ],
 "metadata": {
  "kernelspec": {
   "display_name": "base",
   "language": "python",
   "name": "python3"
  },
  "language_info": {
   "codemirror_mode": {
    "name": "ipython",
    "version": 3
   },
   "file_extension": ".py",
   "mimetype": "text/x-python",
   "name": "python",
   "nbconvert_exporter": "python",
   "pygments_lexer": "ipython3",
   "version": "3.11.4"
  }
 },
 "nbformat": 4,
 "nbformat_minor": 2
}
